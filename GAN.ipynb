{
 "cells": [
  {
   "cell_type": "code",
   "execution_count": 83,
   "id": "0fbeb1d9-36fb-4754-9b0e-c8dc27c24af4",
   "metadata": {},
   "outputs": [],
   "source": [
    "import torch\n",
    "import torch.nn as nn\n",
    "import torch.nn.functional as f\n"
   ]
  },
  {
   "cell_type": "code",
   "execution_count": 84,
   "id": "96d5afae-57ce-4cee-939f-5d2088125590",
   "metadata": {},
   "outputs": [
    {
     "name": "stdout",
     "output_type": "stream",
     "text": [
      "cuda\n"
     ]
    }
   ],
   "source": [
    "image_size = 64\n",
    "latent_dim = 128\n",
    "device = torch.device(\"cuda\" if torch.cuda.is_available() else \"cpu\")\n",
    "print(device)\n"
   ]
  },
  {
   "cell_type": "code",
   "execution_count": 85,
   "id": "3332b139-a117-4d86-a5d1-75d8ab0f3753",
   "metadata": {},
   "outputs": [],
   "source": [
    "class generator(nn.Module):\n",
    "    def __init__(self, latent_dim):\n",
    "        super(generator, self).__init__()\n",
    "        self.convtrans1 = nn.ConvTranspose2d(in_channels=latent_dim, out_channels=1024, kernel_size=4, stride=2, padding=1)\n",
    "        self.bn1 = nn.BatchNorm2d(1024)\n",
    "        self.convtrans2 = nn.ConvTranspose2d(in_channels=1024 * 4 * 4, out_channels=512, kernel_size=4, stride=2, padding=1)\n",
    "        self.bn2 = nn.BatchNorm2d(512)\n",
    "        self.covtrans3 = nn.ConvTranspose2d(in_channels=512, out_channels=256, kernel_size=4, stride=2, padding=1)\n",
    "        self.bn3 = nn.BatchNorm2d(256)\n",
    "        self.convtrans4 = nn.ConvTranspose2d(in_channels=256, out_channels=128, kernel_size=4, stride=2, padding=1)\n",
    "        self.bn4 = nn.BatchNorm2d(128)\n",
    "        self.convtrans5 = nn.ConvTranspose2d(in_channels=128, out_channels=3, kernel_size=4, stride=2, padding=1)\n",
    "\n",
    "\n",
    "    def forward(self, x):\n",
    "        x = f.relu(self.bn1((self.convtrans1(x))))\n",
    "        x = f.relu(self.bn2((self.convtrans2(x))))\n",
    "        x = f.relu(self.bn3((self.convtrans3(x))))\n",
    "        x = f.relu(self.bn4((self.convtrans4(x))))\n",
    "        x = f.tanh(self.convtrans5(x))\n",
    "\n",
    "        return x\n",
    "        "
   ]
  },
  {
   "cell_type": "code",
   "execution_count": 86,
   "id": "d4ce9848-f76c-4bdc-bce8-8452b8cc8a3d",
   "metadata": {},
   "outputs": [
    {
     "name": "stdout",
     "output_type": "stream",
     "text": [
      "generator(\n",
      "  (convtrans1): ConvTranspose2d(128, 1024, kernel_size=(4, 4), stride=(2, 2), padding=(1, 1))\n",
      "  (bn1): BatchNorm2d(1024, eps=1e-05, momentum=0.1, affine=True, track_running_stats=True)\n",
      "  (convtrans2): ConvTranspose2d(16384, 512, kernel_size=(4, 4), stride=(2, 2), padding=(1, 1))\n",
      "  (bn2): BatchNorm2d(512, eps=1e-05, momentum=0.1, affine=True, track_running_stats=True)\n",
      "  (covtrans3): ConvTranspose2d(512, 256, kernel_size=(4, 4), stride=(2, 2), padding=(1, 1))\n",
      "  (bn3): BatchNorm2d(256, eps=1e-05, momentum=0.1, affine=True, track_running_stats=True)\n",
      "  (convtrans4): ConvTranspose2d(256, 128, kernel_size=(4, 4), stride=(2, 2), padding=(1, 1))\n",
      "  (bn4): BatchNorm2d(128, eps=1e-05, momentum=0.1, affine=True, track_running_stats=True)\n",
      "  (convtrans5): ConvTranspose2d(128, 3, kernel_size=(4, 4), stride=(2, 2), padding=(1, 1))\n",
      ")\n"
     ]
    }
   ],
   "source": [
    "\n",
    "generator = generator(latent_dim).to(device)\n",
    "print(generator)"
   ]
  },
  {
   "cell_type": "code",
   "execution_count": 87,
   "id": "fadb6cae-819f-427f-b72d-6d7f3df89914",
   "metadata": {},
   "outputs": [],
   "source": [
    "class discriminator(nn.Module):\n",
    "    def __init__(self):\n",
    "        super(discriminator, self).__init__()\n",
    "        self.conv1 = nn.Conv2d(in_channels=3, out_channels=128, kernel_size=4, stride=2, padding=1)\n",
    "        self.bn1 = nn.BatchNorm2d(128)\n",
    "        self.conv2 = nn.Conv2d(in_channels=32, out_channels=256, kernel_size=4, stride=2, padding=1)\n",
    "        self.bn2 = nn.BatchNorm2d(256)\n",
    "        self.conv3 = nn.Conv2d(in_channels=256, out_channels=512, kernel_size=4, stride=2, padding=1)\n",
    "        self.bn3 = nn.BatchNorm2d(512)\n",
    "        self.conv4 = nn.Conv2d(in_channels=512, out_channels=1024, kernel_size=4, stride=2, padding=1)\n",
    "        self.bn4 = nn.BatchNorm2d(1024)\n",
    "        self.fc = nn.Linear(1024 * 4 * 4, 1)\n",
    "\n",
    "    def forward(self, x):\n",
    "        x = f.leaky_relu(self.conv1(x), negative_slope=0.2)\n",
    "        x = f.leaky_relu(self.conv2(x), negative_slope=0.2)\n",
    "        x = f.leaky_relu(self.conv3(x), negative_slope=0.2)\n",
    "        x = f.leaky_relu(self.conv4(x), negative_slope=0.2)\n",
    "\n",
    "        x = x.view(x.size(0),-1)\n",
    "        x = f.sigmoid(self.fc(x))\n",
    "        return x"
   ]
  },
  {
   "cell_type": "code",
   "execution_count": 88,
   "id": "88d5143c-3f2d-4271-a80f-de023d680a3b",
   "metadata": {},
   "outputs": [
    {
     "name": "stdout",
     "output_type": "stream",
     "text": [
      "discriminator(\n",
      "  (conv1): Conv2d(3, 128, kernel_size=(4, 4), stride=(2, 2), padding=(1, 1))\n",
      "  (bn1): BatchNorm2d(128, eps=1e-05, momentum=0.1, affine=True, track_running_stats=True)\n",
      "  (conv2): Conv2d(32, 256, kernel_size=(4, 4), stride=(2, 2), padding=(1, 1))\n",
      "  (bn2): BatchNorm2d(256, eps=1e-05, momentum=0.1, affine=True, track_running_stats=True)\n",
      "  (conv3): Conv2d(256, 512, kernel_size=(4, 4), stride=(2, 2), padding=(1, 1))\n",
      "  (bn3): BatchNorm2d(512, eps=1e-05, momentum=0.1, affine=True, track_running_stats=True)\n",
      "  (conv4): Conv2d(512, 1024, kernel_size=(4, 4), stride=(2, 2), padding=(1, 1))\n",
      "  (bn4): BatchNorm2d(1024, eps=1e-05, momentum=0.1, affine=True, track_running_stats=True)\n",
      "  (fc): Linear(in_features=16384, out_features=1, bias=True)\n",
      ")\n"
     ]
    }
   ],
   "source": [
    "discriminator = discriminator().to(device)\n",
    "print(discriminator)"
   ]
  },
  {
   "cell_type": "code",
   "execution_count": null,
   "id": "3fa5f418-b238-4eb9-aa1b-afc3e71a6c81",
   "metadata": {},
   "outputs": [],
   "source": []
  },
  {
   "cell_type": "code",
   "execution_count": null,
   "id": "8b80280d-fb7a-470f-9696-54994cc9eeb6",
   "metadata": {},
   "outputs": [],
   "source": []
  }
 ],
 "metadata": {
  "kernelspec": {
   "display_name": "Python 3 (ipykernel)",
   "language": "python",
   "name": "python3"
  },
  "language_info": {
   "codemirror_mode": {
    "name": "ipython",
    "version": 3
   },
   "file_extension": ".py",
   "mimetype": "text/x-python",
   "name": "python",
   "nbconvert_exporter": "python",
   "pygments_lexer": "ipython3",
   "version": "3.9.21"
  }
 },
 "nbformat": 4,
 "nbformat_minor": 5
}
